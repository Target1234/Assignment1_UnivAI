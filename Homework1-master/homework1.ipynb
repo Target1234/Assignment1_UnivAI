{
 "cells": [
  {
   "cell_type": "markdown",
   "metadata": {},
   "source": [
    "# Homework 1\n",
    "\n",
    "Foundations Program, ktf-c1\n",
    "\n",
    "**Due** Sun July 12th 5PM IST"
   ]
  },
  {
   "cell_type": "markdown",
   "metadata": {},
   "source": [
    "## Problem 1\n",
    "\n",
    "(**this is a long question and involves a lot of reading, so start ASAP**)\n",
    "\n",
    "In the data folder below, you will find multiple Shakespeare plays. You will compute the cosine similarity of these plays to find which of these plays are similar and which are different.\n",
    "\n",
    "The definition is provides in the first 3 paras of this [Cosine Similarity](https://en.wikipedia.org/wiki/Cosine_similarity) article on wikipedia.\n",
    "\n",
    "Read the slides and notes (notebooks) in both the `DundersOperators` and `SoftwareDevelopment` repositories.\n",
    "\n",
    "You will define a vector class using the tests (and any additional tests you might like to add) from the `vector4.py` in repository SoftwareDevelopment. However, you must replace the list based implementation by an implementation using numpy arrays, and make sure the tests still run. Note that this will result in the removal of a lot of code, rather than the addition of code, as numpy makes things simple for you.\n",
    "\n",
    "`np.dot` will be your ticket to obtaining dot products. But remember that you must divide the dot product by the magnitudes of both the vectors to obtain the cosine similarity. Thus you must define a method to compute the magnitude ( also called norm or length) of the vector in your class and test it. Add tests!\n",
    "\n",
    "You will compute vectors from each play by parsing the text of the play into words, and then storing the counts of these words in a vector. \n",
    "\n",
    "Remove the most common english words like 'and', 'it' and simililar from each play (this should be the same set of words for all plays). You can do this by sorting the order of the words obtained by their frequency. Unify all the words from all the plays into a set (using the union of the individual play sets), and then convert the resultant set into a list to create the vocabulary. For each word in the vocabulary, see how often that word occured in a play..this is the component of that word for that play. It might look something like this:\n",
    "\n",
    "```\n",
    "war    peace    death    laughter .....\n",
    "15     3        10       2        (Julius Casear)\n",
    "1      5        1        10       (Midsummer's Night Dream)\n",
    "```\n",
    "\n",
    "Now compute the cosine similarity for each pair of plays in the data folder. The reason you computed one vocabulary by unioning the plays individual vocabularies is to be able to have a (a) systematic and (b) identical-dimensioned way of computing the dot product for this similarity\n",
    "\n",
    "How would you (just describe it in words) give a reasonable answer if someone asked you which play was the saddest play?"
   ]
  },
  {
   "cell_type": "markdown",
   "metadata": {},
   "source": [
    "## Problem 2\n",
    "\n",
    "In this problem we will learn some new numpy functions which will be used in the future!\n",
    "These functions are highly used in many machine learning algorithms"
   ]
  },
  {
   "cell_type": "markdown",
   "metadata": {},
   "source": [
    "### numpy.ones()"
   ]
  },
  {
   "cell_type": "markdown",
   "metadata": {},
   "source": [
    "try creating an array of given shape, 2 and type int , with ones."
   ]
  },
  {
   "cell_type": "code",
   "execution_count": 1,
   "metadata": {},
   "outputs": [
    {
     "name": "stdout",
     "output_type": "stream",
     "text": [
      "[1 1]\n"
     ]
    }
   ],
   "source": [
    "import numpy as np\n",
    "a = np.ones(2, dtype = int)\n",
    "print(a)"
   ]
  },
  {
   "cell_type": "markdown",
   "metadata": {},
   "source": [
    "try creating an array of given shape, [3,3] and type int , with ones."
   ]
  },
  {
   "cell_type": "code",
   "execution_count": 2,
   "metadata": {},
   "outputs": [
    {
     "name": "stdout",
     "output_type": "stream",
     "text": [
      "[[1 1 1]\n",
      " [1 1 1]\n",
      " [1 1 1]]\n"
     ]
    }
   ],
   "source": [
    "a = np.ones([3,3], dtype = int)\n",
    "print(a)"
   ]
  },
  {
   "cell_type": "markdown",
   "metadata": {},
   "source": [
    "### numpy.zeros()"
   ]
  },
  {
   "cell_type": "markdown",
   "metadata": {},
   "source": [
    "try creating an array of given shape, 4 and type int , with zeros."
   ]
  },
  {
   "cell_type": "code",
   "execution_count": 3,
   "metadata": {},
   "outputs": [
    {
     "name": "stdout",
     "output_type": "stream",
     "text": [
      "[0 0 0 0]\n"
     ]
    }
   ],
   "source": [
    "a = np.zeros(4, dtype = int)\n",
    "print(a)"
   ]
  },
  {
   "cell_type": "markdown",
   "metadata": {},
   "source": [
    "try creating an array of given shape, [2,2] and type int , with zeros."
   ]
  },
  {
   "cell_type": "code",
   "execution_count": 4,
   "metadata": {},
   "outputs": [
    {
     "name": "stdout",
     "output_type": "stream",
     "text": [
      "[[0 0]\n",
      " [0 0]]\n"
     ]
    }
   ],
   "source": [
    "a = np.zeros([2,2], dtype = int)\n",
    "print(a)"
   ]
  },
  {
   "cell_type": "markdown",
   "metadata": {},
   "source": [
    "Similarly, try updating the data type to float"
   ]
  },
  {
   "cell_type": "code",
   "execution_count": 5,
   "metadata": {},
   "outputs": [
    {
     "name": "stdout",
     "output_type": "stream",
     "text": [
      "[1. 1. 1.]\n",
      "[[1. 1. 1.]\n",
      " [1. 1. 1.]\n",
      " [1. 1. 1.]]\n",
      "[0. 0. 0. 0.]\n",
      "[[0. 0.]\n",
      " [0. 0.]]\n"
     ]
    }
   ],
   "source": [
    "a = np.ones(3, dtype = float)\n",
    "b = np.ones([3,3], dtype = float)\n",
    "c = np.zeros(4, dtype = float)\n",
    "d = np.zeros([2,2], dtype = float)\n",
    "print(a)\n",
    "print(b)\n",
    "print(c)\n",
    "print(d)"
   ]
  },
  {
   "cell_type": "markdown",
   "metadata": {},
   "source": [
    "### np.dtype()"
   ]
  },
  {
   "cell_type": "markdown",
   "metadata": {},
   "source": [
    "Create a datatype object of int16"
   ]
  },
  {
   "cell_type": "code",
   "execution_count": 6,
   "metadata": {},
   "outputs": [
    {
     "name": "stdout",
     "output_type": "stream",
     "text": [
      "int16\n"
     ]
    }
   ],
   "source": [
    "a = np.dtype(np.int16)\n",
    "print(a)"
   ]
  },
  {
   "cell_type": "markdown",
   "metadata": {},
   "source": [
    "### numpy.concatenate()"
   ]
  },
  {
   "cell_type": "code",
   "execution_count": 7,
   "metadata": {},
   "outputs": [],
   "source": [
    "import numpy as np\n",
    "a = np.array([[1,2],[3,4]]) \n",
    "b = np.array([[5,6],[7,8]]) "
   ]
  },
  {
   "cell_type": "markdown",
   "metadata": {},
   "source": [
    "concatenate the given two arrays into a single array along the axis 0"
   ]
  },
  {
   "cell_type": "code",
   "execution_count": 8,
   "metadata": {},
   "outputs": [
    {
     "name": "stdout",
     "output_type": "stream",
     "text": [
      "[[1 2]\n",
      " [3 4]\n",
      " [5 6]\n",
      " [7 8]]\n"
     ]
    }
   ],
   "source": [
    "c = np.concatenate((a,b), axis = 0)\n",
    "print(c)"
   ]
  },
  {
   "cell_type": "markdown",
   "metadata": {},
   "source": [
    "concatenate the given two arrays into a single array along the axis 1"
   ]
  },
  {
   "cell_type": "code",
   "execution_count": 9,
   "metadata": {},
   "outputs": [
    {
     "name": "stdout",
     "output_type": "stream",
     "text": [
      "[[1 2 5 6]\n",
      " [3 4 7 8]]\n"
     ]
    }
   ],
   "source": [
    "c = np.concatenate((a,b), axis = 1)\n",
    "print(c)"
   ]
  },
  {
   "cell_type": "markdown",
   "metadata": {},
   "source": [
    "### numpy.flatten()"
   ]
  },
  {
   "cell_type": "code",
   "execution_count": 10,
   "metadata": {},
   "outputs": [],
   "source": [
    "## Flatten the given 2d numpy array into 1d array\n",
    "a = np.array([[1, 2, 3], [2, 4, 5], [1, 2, 3]]) "
   ]
  },
  {
   "cell_type": "code",
   "execution_count": 11,
   "metadata": {},
   "outputs": [
    {
     "name": "stdout",
     "output_type": "stream",
     "text": [
      "[1 2 3 2 4 5 1 2 3]\n"
     ]
    }
   ],
   "source": [
    "c = a.flatten()\n",
    "print(c)"
   ]
  },
  {
   "cell_type": "markdown",
   "metadata": {},
   "source": [
    "### numpy.ravel()"
   ]
  },
  {
   "cell_type": "markdown",
   "metadata": {},
   "source": [
    "similarly flatten the given previous array to 1d array using numpy.ravel()"
   ]
  },
  {
   "cell_type": "code",
   "execution_count": 12,
   "metadata": {},
   "outputs": [
    {
     "name": "stdout",
     "output_type": "stream",
     "text": [
      "[1 2 3 2 4 5 1 2 3]\n"
     ]
    }
   ],
   "source": [
    "a = np.ravel(a)\n",
    "print(a)"
   ]
  }
 ],
 "metadata": {
  "kernelspec": {
   "display_name": "Python 3",
   "language": "python",
   "name": "python3"
  },
  "language_info": {
   "codemirror_mode": {
    "name": "ipython",
    "version": 3
   },
   "file_extension": ".py",
   "mimetype": "text/x-python",
   "name": "python",
   "nbconvert_exporter": "python",
   "pygments_lexer": "ipython3",
   "version": "3.7.4"
  }
 },
 "nbformat": 4,
 "nbformat_minor": 4
}
